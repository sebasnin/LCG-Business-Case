{
 "cells": [
  {
   "cell_type": "code",
   "execution_count": 1,
   "id": "6cce1c71",
   "metadata": {},
   "outputs": [],
   "source": [
    "import pandas as pd\n",
    "import numpy as np\n",
    "import matplotlib.pyplot as plt\n",
    "import warnings\n",
    "warnings.filterwarnings('ignore')"
   ]
  },
  {
   "cell_type": "code",
   "execution_count": 2,
   "id": "ffdb0c22",
   "metadata": {},
   "outputs": [],
   "source": [
    "pd.set_option('display.float_format', lambda x: '%.3f' % x)\n",
    "pd.options.display.float_format = '{:,}'.format\n"
   ]
  },
  {
   "cell_type": "code",
   "execution_count": 3,
   "id": "d2fdcbe9",
   "metadata": {},
   "outputs": [],
   "source": [
    "df = pd.read_excel('BC LCG 2017 CN (1).xlsx', sheet_name = 2, skiprows = 1, converters={'Departamento - Clave': str, 'Número de Vendedor':str, 'Número de cliente':str, 'Familia - Clave':str})\n",
    "claves = pd.read_excel('BC LCG 2017 CN (1).xlsb', sheet_name = 1, skiprows = 1, dtype=str)\n"
   ]
  },
  {
   "cell_type": "code",
   "execution_count": 4,
   "id": "63724cbf",
   "metadata": {},
   "outputs": [],
   "source": [
    "departamento_clave = claves[['Departamento - Clave','Departamento']]\n",
    "vendedores_clave = claves[['No. Vendedor','Nombre', 'Apellido']]\n",
    "vendedores_clave.dropna(axis = 0, inplace = True)\n",
    "vendedores_clave['Nombre Completo'] = vendedores_clave.Nombre.str.cat(vendedores_clave.Apellido, sep = \" \") \n",
    "vendedores_clave.rename({'No. Vendedor':'Número de Vendedor'}, axis = 1, inplace = True)"
   ]
  },
  {
   "cell_type": "code",
   "execution_count": 5,
   "id": "8108edce",
   "metadata": {},
   "outputs": [],
   "source": [
    "#Limpieza de Base de Datos\n",
    "\n",
    "df.drop('Unnamed: 2', axis = 1, inplace = True)\n",
    "df['Nom_Completo_Vendedor'] = pd.merge(df, vendedores_clave[['Nombre Completo','Número de Vendedor']], on = 'Número de Vendedor', how = 'left')['Nombre Completo']\n",
    "df = pd.merge(df, departamento_clave, on = 'Departamento', how = 'left')\n",
    "df['Departamento - Clave_x'].fillna(df['Departamento - Clave_y'], inplace = True)\n",
    "df.drop(['Departamento - Clave_y'], axis = 1, inplace = True)\n",
    "df.rename({'Departamento - Clave_x':'Departamento - Clave'}, axis = 1, inplace = True)\n",
    "df['Departamento'] = pd.merge(df, departamento_clave.rename({'Departamento':'Departamento1'}, axis = 1), on = 'Departamento - Clave', how = 'left')['Departamento1']\n",
    "df.dropna(axis = 0, how = 'all', inplace = True)\n",
    "\n",
    "#1 USD = 7.5Q\n",
    "df['Ventas Netas USD'] = round(df['Ventas Netas (Q)']/7.5,2)\n",
    "\n",
    "#Formato de Fecha\n",
    "df['Fecha'] = pd.to_datetime(df['Fecha'])\n",
    "\n",
    "df = df.round(2)\n"
   ]
  },
  {
   "cell_type": "code",
   "execution_count": 6,
   "id": "984f5f56",
   "metadata": {},
   "outputs": [
    {
     "name": "stdout",
     "output_type": "stream",
     "text": [
      "Cantidad de Ventas para A:184,530,954.87\n",
      "Cantidad de Ventas para B:35,356,586.6\n",
      "Cantidad de Ventas para C:14,864,808.49\n"
     ]
    }
   ],
   "source": [
    "#Cual es el monto de ventas por cada clasificacion (A, B, C)\n",
    "\n",
    "pivot1 = df.pivot_table(index = 'Departamento', values = 'Ventas Netas USD' ,aggfunc = 'sum')\n",
    "pivot1['% Ventas Netas'] = pivot1['Ventas Netas USD']/pivot1.sum()[0] * 100\n",
    "pivot1.sort_values(by = '% Ventas Netas', ascending = False, inplace = True)\n",
    "pivot1['% Ventas Netas Acumuladas'] = pivot1['% Ventas Netas'].cumsum()\n",
    "\n",
    "def clasificacion(row):\n",
    "    \n",
    "    if row['% Ventas Netas Acumuladas'] <= 80:\n",
    "        return 'A'\n",
    "    elif 80 < row['% Ventas Netas Acumuladas'] <= 95:\n",
    "        return 'B'\n",
    "    else:\n",
    "        return 'C'\n",
    "    \n",
    "pivot1['Clasificacion'] = pivot1.apply(clasificacion, axis = 1)\n",
    "respuesta1 = pivot1.groupby('Clasificacion').sum()[['Ventas Netas USD']]\n",
    "\n",
    "for i in range(len(respuesta1.index)):\n",
    "    \n",
    "    print(f\"Cantidad de Ventas para {respuesta1.index[i]}:{round(respuesta1.iloc[i][0],2):,}\")\n"
   ]
  },
  {
   "cell_type": "code",
   "execution_count": 7,
   "id": "259aa50b",
   "metadata": {},
   "outputs": [
    {
     "name": "stdout",
     "output_type": "stream",
     "text": [
      "Cantidad de departamentos para A:18\n",
      "Cantidad de departamentos para B:7\n",
      "Cantidad de departamentos para C:7\n"
     ]
    }
   ],
   "source": [
    "#Cual es el numero de departamentos por cada clasificacion (A, B, C)\n",
    "\n",
    "respuesta2 = pivot1.groupby('Clasificacion').count()[['Ventas Netas USD']]\n",
    "\n",
    "for i in range(len(respuesta2.index)):\n",
    "    \n",
    "    print(f\"Cantidad de departamentos para {respuesta2.index[i]}:{respuesta2.iloc[i][0]}\")\n"
   ]
  },
  {
   "cell_type": "code",
   "execution_count": 8,
   "id": "11f0f57e",
   "metadata": {},
   "outputs": [
    {
     "name": "stdout",
     "output_type": "stream",
     "text": [
      "Los Clientes que mas compran son:['47', '14', '59', '68', '74']\n",
      "cliente 47 con 20,530,094.3\n",
      "cliente 14 con 19,963,858.28\n",
      "cliente 59 con 19,198,607.43\n",
      "cliente 68 con 18,611,336.37\n",
      "cliente 74 con 16,949,299.53\n"
     ]
    },
    {
     "data": {
      "text/html": [
       "<div>\n",
       "<style scoped>\n",
       "    .dataframe tbody tr th:only-of-type {\n",
       "        vertical-align: middle;\n",
       "    }\n",
       "\n",
       "    .dataframe tbody tr th {\n",
       "        vertical-align: top;\n",
       "    }\n",
       "\n",
       "    .dataframe thead th {\n",
       "        text-align: right;\n",
       "    }\n",
       "</style>\n",
       "<table border=\"1\" class=\"dataframe\">\n",
       "  <thead>\n",
       "    <tr style=\"text-align: right;\">\n",
       "      <th></th>\n",
       "      <th>Ventas Netas USD</th>\n",
       "      <th>% Ventas Netas</th>\n",
       "      <th>% Ventas Netas Acumuladas</th>\n",
       "      <th>Clasificacion</th>\n",
       "    </tr>\n",
       "    <tr>\n",
       "      <th>Número de cliente</th>\n",
       "      <th></th>\n",
       "      <th></th>\n",
       "      <th></th>\n",
       "      <th></th>\n",
       "    </tr>\n",
       "  </thead>\n",
       "  <tbody>\n",
       "    <tr>\n",
       "      <th>47</th>\n",
       "      <td>20,530,094.3</td>\n",
       "      <td>8.75</td>\n",
       "      <td>8.75</td>\n",
       "      <td>A</td>\n",
       "    </tr>\n",
       "    <tr>\n",
       "      <th>14</th>\n",
       "      <td>19,963,858.28</td>\n",
       "      <td>8.5</td>\n",
       "      <td>17.25</td>\n",
       "      <td>A</td>\n",
       "    </tr>\n",
       "    <tr>\n",
       "      <th>59</th>\n",
       "      <td>19,198,607.43</td>\n",
       "      <td>8.18</td>\n",
       "      <td>25.43</td>\n",
       "      <td>A</td>\n",
       "    </tr>\n",
       "    <tr>\n",
       "      <th>68</th>\n",
       "      <td>18,611,336.37</td>\n",
       "      <td>7.93</td>\n",
       "      <td>33.36</td>\n",
       "      <td>A</td>\n",
       "    </tr>\n",
       "    <tr>\n",
       "      <th>74</th>\n",
       "      <td>16,949,299.53</td>\n",
       "      <td>7.22</td>\n",
       "      <td>40.58</td>\n",
       "      <td>A</td>\n",
       "    </tr>\n",
       "  </tbody>\n",
       "</table>\n",
       "</div>"
      ],
      "text/plain": [
       "                   Ventas Netas USD  % Ventas Netas  \\\n",
       "Número de cliente                                     \n",
       "47                     20,530,094.3            8.75   \n",
       "14                    19,963,858.28             8.5   \n",
       "59                    19,198,607.43            8.18   \n",
       "68                    18,611,336.37            7.93   \n",
       "74                    16,949,299.53            7.22   \n",
       "\n",
       "                   % Ventas Netas Acumuladas Clasificacion  \n",
       "Número de cliente                                           \n",
       "47                                      8.75             A  \n",
       "14                                     17.25             A  \n",
       "59                                     25.43             A  \n",
       "68                                     33.36             A  \n",
       "74                                     40.58             A  "
      ]
     },
     "execution_count": 8,
     "metadata": {},
     "output_type": "execute_result"
    }
   ],
   "source": [
    "#Realizar un ABC de clientes e identificar cuales son los 5 clientes que mas compran\n",
    "pivot2 = df.pivot_table(index = 'Número de cliente', values = 'Ventas Netas USD' ,aggfunc = 'sum')\n",
    "pivot2['% Ventas Netas'] = (pivot2['Ventas Netas USD']/pivot2.sum()[0]) * 100\n",
    "pivot2.sort_values(by = '% Ventas Netas', ascending = False, inplace = True)\n",
    "pivot2['% Ventas Netas Acumuladas'] = pivot2['% Ventas Netas'].cumsum()\n",
    "pivot2['Clasificacion'] = pivot2.apply(clasificacion, axis = 1)\n",
    "\n",
    "pivot2 = pivot2.round(2)\n",
    "\n",
    "print(f\"Los Clientes que mas compran son:{list(pivot2.head().index)}\")\n",
    "for i in range(len(pivot2.head())):\n",
    "    print(f\"cliente {pivot2.index[i]} con {pivot2.iloc[i][0]:,}\")\n",
    "pivot2.head()\n"
   ]
  },
  {
   "cell_type": "code",
   "execution_count": 9,
   "id": "e0ee491e",
   "metadata": {},
   "outputs": [
    {
     "name": "stdout",
     "output_type": "stream",
     "text": [
      "La persona que mas vende es Juan Garza, es decir el vendedor numero 1\n"
     ]
    },
    {
     "data": {
      "text/html": [
       "<div>\n",
       "<style scoped>\n",
       "    .dataframe tbody tr th:only-of-type {\n",
       "        vertical-align: middle;\n",
       "    }\n",
       "\n",
       "    .dataframe tbody tr th {\n",
       "        vertical-align: top;\n",
       "    }\n",
       "\n",
       "    .dataframe thead th {\n",
       "        text-align: right;\n",
       "    }\n",
       "</style>\n",
       "<table border=\"1\" class=\"dataframe\">\n",
       "  <thead>\n",
       "    <tr style=\"text-align: right;\">\n",
       "      <th></th>\n",
       "      <th></th>\n",
       "      <th>Ventas Netas USD</th>\n",
       "      <th>% Ventas Netas</th>\n",
       "      <th>% Ventas Netas Acumuladas</th>\n",
       "      <th>Clasificacion</th>\n",
       "    </tr>\n",
       "    <tr>\n",
       "      <th>Número de Vendedor</th>\n",
       "      <th>Nom_Completo_Vendedor</th>\n",
       "      <th></th>\n",
       "      <th></th>\n",
       "      <th></th>\n",
       "      <th></th>\n",
       "    </tr>\n",
       "  </thead>\n",
       "  <tbody>\n",
       "    <tr>\n",
       "      <th>1</th>\n",
       "      <th>Juan Garza</th>\n",
       "      <td>126,053,855.53</td>\n",
       "      <td>53.69652553061923</td>\n",
       "      <td>53.69652553061923</td>\n",
       "      <td>A</td>\n",
       "    </tr>\n",
       "    <tr>\n",
       "      <th>8</th>\n",
       "      <th>Ernesto Pineda</th>\n",
       "      <td>27,277,862.36</td>\n",
       "      <td>11.619846346436123</td>\n",
       "      <td>65.31637187705536</td>\n",
       "      <td>A</td>\n",
       "    </tr>\n",
       "    <tr>\n",
       "      <th>5</th>\n",
       "      <th>Gonzalo Aguilar</th>\n",
       "      <td>15,621,483.8</td>\n",
       "      <td>6.654452576369005</td>\n",
       "      <td>71.97082445342437</td>\n",
       "      <td>A</td>\n",
       "    </tr>\n",
       "    <tr>\n",
       "      <th>3</th>\n",
       "      <th>Sofia Gonzalez</th>\n",
       "      <td>15,238,778.75</td>\n",
       "      <td>6.491427562960103</td>\n",
       "      <td>78.46225201638447</td>\n",
       "      <td>A</td>\n",
       "    </tr>\n",
       "    <tr>\n",
       "      <th>7</th>\n",
       "      <th>Carlos Vela</th>\n",
       "      <td>14,234,057.75</td>\n",
       "      <td>6.063435681229762</td>\n",
       "      <td>84.52568769761423</td>\n",
       "      <td>B</td>\n",
       "    </tr>\n",
       "    <tr>\n",
       "      <th>6</th>\n",
       "      <th>Paulina Casanova</th>\n",
       "      <td>14,146,193.76</td>\n",
       "      <td>6.026007306171974</td>\n",
       "      <td>90.55169500378621</td>\n",
       "      <td>B</td>\n",
       "    </tr>\n",
       "    <tr>\n",
       "      <th>4</th>\n",
       "      <th>Pedro Arroyo</th>\n",
       "      <td>13,928,986.03</td>\n",
       "      <td>5.93348097787877</td>\n",
       "      <td>96.48517598166498</td>\n",
       "      <td>C</td>\n",
       "    </tr>\n",
       "    <tr>\n",
       "      <th>2</th>\n",
       "      <th>Michelle Perez</th>\n",
       "      <td>8,251,131.98</td>\n",
       "      <td>3.5148240183350374</td>\n",
       "      <td>100.00000000000001</td>\n",
       "      <td>C</td>\n",
       "    </tr>\n",
       "  </tbody>\n",
       "</table>\n",
       "</div>"
      ],
      "text/plain": [
       "                                          Ventas Netas USD     % Ventas Netas  \\\n",
       "Número de Vendedor Nom_Completo_Vendedor                                        \n",
       "1                  Juan Garza               126,053,855.53  53.69652553061923   \n",
       "8                  Ernesto Pineda            27,277,862.36 11.619846346436123   \n",
       "5                  Gonzalo Aguilar            15,621,483.8  6.654452576369005   \n",
       "3                  Sofia Gonzalez            15,238,778.75  6.491427562960103   \n",
       "7                  Carlos Vela               14,234,057.75  6.063435681229762   \n",
       "6                  Paulina Casanova          14,146,193.76  6.026007306171974   \n",
       "4                  Pedro Arroyo              13,928,986.03   5.93348097787877   \n",
       "2                  Michelle Perez             8,251,131.98 3.5148240183350374   \n",
       "\n",
       "                                          % Ventas Netas Acumuladas  \\\n",
       "Número de Vendedor Nom_Completo_Vendedor                              \n",
       "1                  Juan Garza                     53.69652553061923   \n",
       "8                  Ernesto Pineda                 65.31637187705536   \n",
       "5                  Gonzalo Aguilar                71.97082445342437   \n",
       "3                  Sofia Gonzalez                 78.46225201638447   \n",
       "7                  Carlos Vela                    84.52568769761423   \n",
       "6                  Paulina Casanova               90.55169500378621   \n",
       "4                  Pedro Arroyo                   96.48517598166498   \n",
       "2                  Michelle Perez                100.00000000000001   \n",
       "\n",
       "                                         Clasificacion  \n",
       "Número de Vendedor Nom_Completo_Vendedor                \n",
       "1                  Juan Garza                        A  \n",
       "8                  Ernesto Pineda                    A  \n",
       "5                  Gonzalo Aguilar                   A  \n",
       "3                  Sofia Gonzalez                    A  \n",
       "7                  Carlos Vela                       B  \n",
       "6                  Paulina Casanova                  B  \n",
       "4                  Pedro Arroyo                      C  \n",
       "2                  Michelle Perez                    C  "
      ]
     },
     "execution_count": 9,
     "metadata": {},
     "output_type": "execute_result"
    }
   ],
   "source": [
    "#Identificar cual es el vendedor que le vende a la mayoria de clientes\n",
    "\n",
    "pivot3 = df.pivot_table(index = ['Número de Vendedor','Nom_Completo_Vendedor'], values = 'Ventas Netas USD' ,aggfunc = 'sum')\n",
    "pivot3['% Ventas Netas'] = (pivot3['Ventas Netas USD']/pivot3.sum()[0]) * 100\n",
    "pivot3.sort_values(by = '% Ventas Netas', ascending = False, inplace = True)\n",
    "pivot3['% Ventas Netas Acumuladas'] = pivot3['% Ventas Netas'].cumsum()\n",
    "pivot3['Clasificacion'] = pivot3.apply(clasificacion, axis = 1)\n",
    "\n",
    "print(\"La persona que mas vende es Juan Garza, es decir el vendedor numero 1\")\n",
    "pivot3\n"
   ]
  },
  {
   "cell_type": "code",
   "execution_count": 10,
   "id": "0c3d78e7",
   "metadata": {},
   "outputs": [
    {
     "name": "stdout",
     "output_type": "stream",
     "text": [
      "El mes con mas ventas para el año 2015 es 2015-12-01  con $23,388,850.84\n",
      "El mes con mas ventas para el año 2016 es 2016-11-01  con $16,960,601.28\n"
     ]
    }
   ],
   "source": [
    "#Cual es el mes con mas ventas para el año 2015 y 2016?\n",
    "\n",
    "pivot4 = df.pivot_table(index = ['Fecha'], values = 'Ventas Netas USD' ,aggfunc = 'sum')\n",
    "max_2015 = str(pivot4.loc[(pivot4.index > '2014-12-31') & (pivot4.index < '2016-01-01')].sort_values(by = 'Ventas Netas USD', ascending = False).idxmax()[0])[:-8]\n",
    "max_2016 = str(pivot4.loc[(pivot4.index > '2015-12-31') & (pivot4.index < '2017-01-01')].sort_values(by = 'Ventas Netas USD', ascending = False).idxmax()[0])[:-8]\n",
    "\n",
    "maximos = [max_2015, max_2016]\n",
    "años = [2015, 2016]\n",
    "\n",
    "for i,j in zip(maximos,años):\n",
    "    \n",
    "    print(f\"El mes con mas ventas para el año {j} es {i} con ${pivot4.loc[i][0]:,}\")"
   ]
  },
  {
   "cell_type": "code",
   "execution_count": 11,
   "id": "99765077",
   "metadata": {},
   "outputs": [
    {
     "name": "stdout",
     "output_type": "stream",
     "text": [
      "El mes con menos ventas para el año 2015 es 2015-02-01  con $7,084,395.66\n",
      "El mes con menos ventas para el año 2016 es 2016-12-01  con $4,404,673.12\n"
     ]
    }
   ],
   "source": [
    "pivot4 = df.pivot_table(index = ['Fecha'], values = 'Ventas Netas USD' ,aggfunc = 'sum')\n",
    "max_2015 = str(pivot4.loc[(pivot4.index > '2014-12-31') & (pivot4.index < '2016-01-01')].sort_values(by = 'Ventas Netas USD', ascending = False).idxmin()[0])[:-8]\n",
    "max_2016 = str(pivot4.loc[(pivot4.index > '2015-12-31') & (pivot4.index < '2017-01-01')].sort_values(by = 'Ventas Netas USD', ascending = False).idxmin()[0])[:-8]\n",
    "\n",
    "minimos = [max_2015, max_2016]\n",
    "años = [2015, 2016]\n",
    "\n",
    "for i,j in zip(minimos,años):\n",
    "    \n",
    "    print(f\"El mes con menos ventas para el año {j} es {i} con ${pivot4.loc[i][0]:,}\")"
   ]
  },
  {
   "cell_type": "code",
   "execution_count": 12,
   "id": "cd0418ae",
   "metadata": {},
   "outputs": [
    {
     "name": "stdout",
     "output_type": "stream",
     "text": [
      "El porcentaje de crecimiento entre estos dos años es: -7.181865%\n"
     ]
    }
   ],
   "source": [
    "#Cual es el porcentaje de crecimiento anual?\n",
    "\n",
    "ventas_totales_2015 = (pivot4.loc[(pivot4.index > '2014-12-31') & (pivot4.index < '2016-01-01')].sum())\n",
    "ventas_totales_2016 = (pivot4.loc[(pivot4.index > '2015-12-31') & (pivot4.index < '2017-01-01')].sum())\n",
    "\n",
    "pct_crecimiento = (ventas_totales_2016-ventas_totales_2015)/ventas_totales_2015\n",
    "\n",
    "print(f\"El porcentaje de crecimiento entre estos dos años es: {pct_crecimiento[0]:%}\")"
   ]
  },
  {
   "cell_type": "code",
   "execution_count": 13,
   "id": "007c61f3",
   "metadata": {},
   "outputs": [
    {
     "name": "stdout",
     "output_type": "stream",
     "text": [
      "La rentabilidad para septiembre del 2016 es 4,485,834.66, es decir, un 44.000000%\n"
     ]
    }
   ],
   "source": [
    "#Cual es la rentabilidad del mes de septiembre del 2016\n",
    "\n",
    "pivot5 = df.pivot_table(index = ['Fecha'], values = ['Ventas Netas (Q)', 'Costo'] ,aggfunc = 'sum')\n",
    "pivot5['Rentabilidad'] = round(pivot5['Ventas Netas (Q)'] - pivot5['Costo'],2 )\n",
    "pivot5['Pct_Rentabilidad'] = round((pivot5['Ventas Netas (Q)'] - pivot5['Costo'])/pivot5['Ventas Netas (Q)'],2 )\n",
    "\n",
    "print(f\"La rentabilidad para septiembre del 2016 es {(pivot5.loc['2016-09-01']['Rentabilidad'])/7.5:,}, es decir, un {pivot5.loc['2016-09-01']['Pct_Rentabilidad']:%}\")"
   ]
  },
  {
   "cell_type": "code",
   "execution_count": 14,
   "id": "4abb6f79",
   "metadata": {},
   "outputs": [],
   "source": [
    "# Cual fue el cliente menos rentable y en que año?\n",
    "\n",
    "pivot6 = df.pivot_table(index = ['Fecha','Número de cliente'], values = ['Ventas Netas (Q)', 'Costo'] ,aggfunc = 'sum')"
   ]
  },
  {
   "cell_type": "code",
   "execution_count": 15,
   "id": "fe209241",
   "metadata": {},
   "outputs": [],
   "source": [
    "#pivot6.sort_values(by = 'Ventas Netas (Q)')\n",
    "pivot6['Rentabilidad'] = round(pivot6['Ventas Netas (Q)'] - pivot6['Costo'],2 )\n",
    "pivot6['Rentabilidad'] = pivot6['Rentabilidad']/7.5 \n",
    "pivot6['Pct_Rentabilidad'] = round((pivot6['Ventas Netas (Q)'] - pivot6['Costo'])/pivot6['Ventas Netas (Q)'],2)"
   ]
  },
  {
   "cell_type": "code",
   "execution_count": 16,
   "id": "b3b8c040",
   "metadata": {},
   "outputs": [
    {
     "name": "stdout",
     "output_type": "stream",
     "text": [
      "El cliente numero 10 fue el cliente menos rentable, esto fue en 2015-02-01 con un porcentaje de -70.000000% con una rentabilidad de -12.964444444444444\n"
     ]
    }
   ],
   "source": [
    "pivot_ord = pivot6.sort_values(by = 'Pct_Rentabilidad')\n",
    "print(f\"El cliente numero {str(pivot_ord.iloc[[0]].index[0][1])} fue el cliente menos rentable, esto fue en {str(pivot_ord.iloc[[0]].index[0][0])[:-9]} con un porcentaje de {pivot_ord.iloc[0]['Pct_Rentabilidad']:%} con una rentabilidad de {pivot_ord.iloc[0]['Rentabilidad']/7.5}\")"
   ]
  },
  {
   "cell_type": "code",
   "execution_count": 18,
   "id": "0962cadf",
   "metadata": {},
   "outputs": [],
   "source": [
    "#Cual fue el trimestre con la rentabilidad mas baja?\n",
    "pivot7 = pivot5.reset_index()\n",
    "pivot7['trimestre'] = pd.PeriodIndex(pivot7['Fecha'], freq='Q')\n",
    "pivot7.drop(['Fecha','Pct_Rentabilidad'],axis = 1, inplace = True)\n",
    "pivot7_Q = pivot7.groupby('trimestre').sum()\n",
    "pivot7_Q['Pct_Rentabilidad'] = (pivot7_Q['Ventas Netas (Q)'] - pivot7_Q['Costo'])/pivot7_Q['Ventas Netas (Q)']"
   ]
  },
  {
   "cell_type": "code",
   "execution_count": 19,
   "id": "f8a5f4ce",
   "metadata": {},
   "outputs": [],
   "source": [
    "pivot7_Q.sort_values(by = 'Pct_Rentabilidad', ascending = True)\n",
    "pivot7_Q['Pct_Rentabilidad'] = pivot7_Q['Pct_Rentabilidad'].astype(float).map(lambda n: '{:.2%}'.format(n))"
   ]
  },
  {
   "cell_type": "code",
   "execution_count": 20,
   "id": "660ee2ef",
   "metadata": {},
   "outputs": [
    {
     "data": {
      "text/html": [
       "<div>\n",
       "<style scoped>\n",
       "    .dataframe tbody tr th:only-of-type {\n",
       "        vertical-align: middle;\n",
       "    }\n",
       "\n",
       "    .dataframe tbody tr th {\n",
       "        vertical-align: top;\n",
       "    }\n",
       "\n",
       "    .dataframe thead th {\n",
       "        text-align: right;\n",
       "    }\n",
       "</style>\n",
       "<table border=\"1\" class=\"dataframe\">\n",
       "  <thead>\n",
       "    <tr style=\"text-align: right;\">\n",
       "      <th></th>\n",
       "      <th>Costo</th>\n",
       "      <th>Ventas Netas (Q)</th>\n",
       "      <th>Rentabilidad</th>\n",
       "      <th>Pct_Rentabilidad</th>\n",
       "    </tr>\n",
       "    <tr>\n",
       "      <th>trimestre</th>\n",
       "      <th></th>\n",
       "      <th></th>\n",
       "      <th></th>\n",
       "      <th></th>\n",
       "    </tr>\n",
       "  </thead>\n",
       "  <tbody>\n",
       "    <tr>\n",
       "      <th>2015Q1</th>\n",
       "      <td>109,413,899.16</td>\n",
       "      <td>188,750,972.57999998</td>\n",
       "      <td>79,337,073.42</td>\n",
       "      <td>42.03%</td>\n",
       "    </tr>\n",
       "    <tr>\n",
       "      <th>2015Q2</th>\n",
       "      <td>109,492,726.21000001</td>\n",
       "      <td>185,663,574.76</td>\n",
       "      <td>76,170,848.55</td>\n",
       "      <td>41.03%</td>\n",
       "    </tr>\n",
       "    <tr>\n",
       "      <th>2015Q3</th>\n",
       "      <td>116,444,580.22</td>\n",
       "      <td>202,474,824.45999998</td>\n",
       "      <td>86,030,244.24</td>\n",
       "      <td>42.49%</td>\n",
       "    </tr>\n",
       "    <tr>\n",
       "      <th>2015Q4</th>\n",
       "      <td>192,824,490.66</td>\n",
       "      <td>336,221,120.41999996</td>\n",
       "      <td>143,396,629.76</td>\n",
       "      <td>42.65%</td>\n",
       "    </tr>\n",
       "    <tr>\n",
       "      <th>2016Q1</th>\n",
       "      <td>114,113,366.2</td>\n",
       "      <td>201,380,416.45</td>\n",
       "      <td>87,267,050.25</td>\n",
       "      <td>43.33%</td>\n",
       "    </tr>\n",
       "    <tr>\n",
       "      <th>2016Q2</th>\n",
       "      <td>122,777,770.33</td>\n",
       "      <td>206,323,759.41</td>\n",
       "      <td>83,545,989.08</td>\n",
       "      <td>40.49%</td>\n",
       "    </tr>\n",
       "    <tr>\n",
       "      <th>2016Q3</th>\n",
       "      <td>119,345,277.44</td>\n",
       "      <td>215,003,642.5</td>\n",
       "      <td>95,658,365.06</td>\n",
       "      <td>44.49%</td>\n",
       "    </tr>\n",
       "    <tr>\n",
       "      <th>2016Q4</th>\n",
       "      <td>126,952,956.64999999</td>\n",
       "      <td>224,824,314.69</td>\n",
       "      <td>97,871,358.04</td>\n",
       "      <td>43.53%</td>\n",
       "    </tr>\n",
       "  </tbody>\n",
       "</table>\n",
       "</div>"
      ],
      "text/plain": [
       "                         Costo     Ventas Netas (Q)   Rentabilidad  \\\n",
       "trimestre                                                            \n",
       "2015Q1          109,413,899.16 188,750,972.57999998  79,337,073.42   \n",
       "2015Q2    109,492,726.21000001       185,663,574.76  76,170,848.55   \n",
       "2015Q3          116,444,580.22 202,474,824.45999998  86,030,244.24   \n",
       "2015Q4          192,824,490.66 336,221,120.41999996 143,396,629.76   \n",
       "2016Q1           114,113,366.2       201,380,416.45  87,267,050.25   \n",
       "2016Q2          122,777,770.33       206,323,759.41  83,545,989.08   \n",
       "2016Q3          119,345,277.44        215,003,642.5  95,658,365.06   \n",
       "2016Q4    126,952,956.64999999       224,824,314.69  97,871,358.04   \n",
       "\n",
       "          Pct_Rentabilidad  \n",
       "trimestre                   \n",
       "2015Q1              42.03%  \n",
       "2015Q2              41.03%  \n",
       "2015Q3              42.49%  \n",
       "2015Q4              42.65%  \n",
       "2016Q1              43.33%  \n",
       "2016Q2              40.49%  \n",
       "2016Q3              44.49%  \n",
       "2016Q4              43.53%  "
      ]
     },
     "execution_count": 20,
     "metadata": {},
     "output_type": "execute_result"
    }
   ],
   "source": [
    "pivot7_Q"
   ]
  },
  {
   "cell_type": "code",
   "execution_count": 21,
   "id": "74e8c655",
   "metadata": {},
   "outputs": [
    {
     "name": "stdout",
     "output_type": "stream",
     "text": [
      "El segundo cuarto es el que tiene menor rentabilidad en ambos años\n"
     ]
    }
   ],
   "source": [
    "print(\"El segundo cuarto es el que tiene menor rentabilidad en ambos años\")"
   ]
  },
  {
   "cell_type": "code",
   "execution_count": null,
   "id": "a2fdaa90",
   "metadata": {},
   "outputs": [],
   "source": []
  }
 ],
 "metadata": {
  "kernelspec": {
   "display_name": "Python 3 (ipykernel)",
   "language": "python",
   "name": "python3"
  },
  "language_info": {
   "codemirror_mode": {
    "name": "ipython",
    "version": 3
   },
   "file_extension": ".py",
   "mimetype": "text/x-python",
   "name": "python",
   "nbconvert_exporter": "python",
   "pygments_lexer": "ipython3",
   "version": "3.9.12"
  }
 },
 "nbformat": 4,
 "nbformat_minor": 5
}
